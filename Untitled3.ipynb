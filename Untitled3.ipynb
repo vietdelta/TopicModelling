{
 "cells": [
  {
   "cell_type": "code",
   "execution_count": 2,
   "metadata": {},
   "outputs": [],
   "source": [
    "import os\n",
    "from sklearn.feature_extraction.text import CountVectorizer\n",
    "import lda\n",
    "import numpy as np\n",
    "import pickle\n",
    "import seaborn as sns\n",
    "\n",
    "from matplotlib import pyplot as plt "
   ]
  },
  {
   "cell_type": "code",
   "execution_count": 3,
   "metadata": {},
   "outputs": [],
   "source": [
    "source = \"/home/vietphan/Downloads/fbcrawl/source.txt\""
   ]
  },
  {
   "cell_type": "code",
   "execution_count": 16,
   "metadata": {},
   "outputs": [],
   "source": [
    "filename = \"/home/vietphan/Downloads/fbcrawl/corpus.txt\"\n",
    "rating_file = \"/home/vietphan/Downloads/fbcrawl/rating.txt\"\n",
    "source = \"/home/vietphan/Downloads/fbcrawl/source.txt\"\n",
    "\n",
    "source_name = []\n",
    "corpus = []\n",
    "page_id = []\n",
    "doc_count = 0\n",
    "rating = []\n",
    "with open(filename, 'r') as f:\n",
    "    line = f.readline()\n",
    "    while(line):\n",
    "        if(line[0]!=\"*\"):\n",
    "            corpus.append(line)\n",
    "            # doc_count = doc_count +1\n",
    "        line = f.readline()\n",
    "with open(rating_file, 'r') as f2:\n",
    "    line = f2.readline()\n",
    "    while(line):\n",
    "        if(line[0]==\"*\"):\n",
    "            page_id.append(doc_count-len(page_id))\n",
    "        else:\n",
    "            rating.append(np.int64(line))\n",
    "            doc_count = doc_count +1\n",
    "        line = f2.readline()\n",
    "# print(page_id)\n",
    "\n",
    "with open(source, 'r') as f2:\n",
    "    line = f2.readline()\n",
    "    while(line):\n",
    "        if(line[0]==\"*\"):\n",
    "#             page_id.append(doc_count-len(page_id))\n",
    "            a = 6\n",
    "        else:\n",
    "            source_name.append(line)\n",
    "            doc_count = doc_count +1\n",
    "        line = f2.readline()\n",
    "#         print(line)\n",
    "\n",
    "\n",
    "for i in range(len(page_id)-1):\n",
    "    sum = 0\n",
    "    for j in range(page_id[i],page_id[i+1]):\n",
    "        sum = sum + rating[j]\n",
    "        # print(j)\n",
    "    for j in range(page_id[i],page_id[i+1]):\n",
    "        rating[j] = rating[j]/sum\n",
    "\n",
    "sum = 0\n",
    "for j in range(page_id[-1],len(rating)):\n",
    "    sum = sum + rating[j]\n",
    "for j in range(page_id[-1],len(rating)):\n",
    "    rating[j] = rating[j]/sum\n",
    "# print(rating)\n",
    "# print(corpus)\n",
    "vectorizer = CountVectorizer()\n",
    "X = vectorizer.fit_transform(corpus)\n",
    "vocab = vectorizer.get_feature_names()\n",
    "# print(vectorizer.get_feature_names())\n",
    "# print(X.toarray())\n",
    "\n",
    "model_filename = '/home/vietphan/Downloads/fbcrawl/finalized_model.sav'\n",
    "model = pickle.load(open(model_filename, 'rb'))\n",
    "\n",
    "page_vector = []\n",
    "topic_word = model.topic_word_\n",
    "doc_topic = model.doc_topic_\n",
    "for i in range(len(page_id)-1):\n",
    "    vector_temp = np.zeros((20,))\n",
    "    for j in range(page_id[i],page_id[i+1]):\n",
    "        vector_temp = vector_temp + rating[j]*doc_topic[j]\n",
    "    page_vector.append(vector_temp)\n",
    "\n",
    "vector_temp = np.zeros((1, 20))\n",
    "for j in range(page_id[-1],len(rating)):\n",
    "    vector_temp = vector_temp + rating[j]*doc_topic[j]\n",
    "page_vector.append(vector_temp)"
   ]
  },
  {
   "cell_type": "code",
   "execution_count": 17,
   "metadata": {},
   "outputs": [
    {
     "name": "stdout",
     "output_type": "stream",
     "text": [
      "['YAN News\\n', 'Đại Kỷ Nguyên,Đại Kỷ Nguyên,Tin tức kịp thời\\n', 'YAN TV\\n', 'YAN News\\n', 'Đại Kỷ Nguyên,Đại Kỷ Nguyên,Thời sự kịp thời\\n', 'YAN TV\\n', 'Yeah1 TV\\n', 'Đại Kỷ Nguyên - News\\n', 'Kenh14.vn\\n', 'Vie Channel - HTV2\\n', 'VnExpress.net\\n', 'Man TV\\n', 'Đại Kỷ Nguyên - Video,Đại Kỷ Nguyên,Thời sự kịp thời\\n', 'VOA Tiếng Việt\\n', 'BBC News Tiếng Việt\\n', 'Tuổi Trẻ\\n', 'Muvik\\n', 'YAN Foods\\n', 'Trung tâm Tin tức VTV24\\n', 'TodayTV\\n', 'Trắng TV\\n', 'Báo Thanh Niên\\n', 'SaoStar\\n', 'VN Ngày Nay\\n', 'Thethao247.vn\\n', 'VTC News\\n', 'POPS Kids\\n', 'YAN KPOP,YAN TV\\n', 'VTV Giải trí,VTV6\\n', 'YouTV\\n', 'BEATVN\\n', 'Truyền hình FPT\\n', 'Hoa Hoc Tro Magazine\\n', 'Báo Đời Sống Pháp Luật\\n', 'Đài Á Châu Tự Do\\n', 'HTV3 - DreamsTV\\n', 'TinMoi.vn\\n', 'ELLE Vietnam\\n', 'Kênh Nhạc Việt\\n', 'Marry\\n', 'Xone Radio\\n', 'VTV - Đài Truyền hình Việt Nam\\n', 'Bà Lão - Trị Mụn Thâm Sẹo Nám\\n', 'Tạp Chí Đẹp\\n', 'Giải Trí TV\\n', 'THVL - Đài Phát thanh Truyền hình Vĩnh Long\\n', 'VN Ngày Nay - Tin Tức\\n', \"Let's Viet TV\\n\", 'Soha.vn\\n', 'Góc Gia Đình\\n', 'Sinh Viên TV\\n', 'VTC1 Tin Tức\\n', 'Báo Thiên Thần Nhỏ\\n', 'Truyền hình Đồng Tháp\\n', 'TripZilla Vietnam\\n', 'Trên Đường Pitch\\n', 'GenK\\n', 'Báo Lao Động\\n', 'Tuổi Trẻ Online,Ngày của Phở\\n', 'VTV24 - Vì Tầm Vóc Việt\\n', 'Game8\\n', 'Sức Khỏe Gia Đình\\n', 'SCTV9 - TVB\\n', 'Esports TV\\n', 'danviet.vn\\n', 'TVAd\\n', \"L'Officiel Vietnam\\n\", 'VnExpress Video\\n', 'VNEWS - Truyền hình Thông tấn\\n', 'Yeah1 Beauty\\n', 'LoveTV\\n', 'Nguoiduatin.vn\\n', 'Netnews.vn\\n', 'Thế Giới Văn Hóa\\n', 'Soha Quân Sự\\n', 'Stardaily.vn\\n', 'RFI Tiếng Việt\\n', 'Billboard Việt Nam\\n', 'VOV Giao Thông\\n', 'Forbes Vietnam\\n', 'Barcode Magazine Vietnam\\n', '2! Magazine\\n', 'Tiếp Thị & Gia Đình\\n', 'Tạp Chí Doanh Nhân\\n', 'METUB Network\\n', 'Sport5.vn\\n', 'VietnamPlus\\n', 'Saigoneer\\n', 'POPS Worldwide\\n', 'Thantuong.tv\\n', 'CafeLand.vn\\n']\n"
     ]
    }
   ],
   "source": [
    "print(source_name)"
   ]
  },
  {
   "cell_type": "code",
   "execution_count": 13,
   "metadata": {},
   "outputs": [],
   "source": [
    "class Fanpage:\n",
    "    def __init__(self, name, corpus, ratings, word_vectors):\n",
    "        self.name = name\n",
    "        self.corpus = corpus\n",
    "        self.ratings = ratings\n",
    "        self.word_vectors = word_vectors\n",
    "        self.page_vector = np.zeros((20,))\n",
    "    def calculate(self):\n",
    "        sum = np.zeros((20,))\n",
    "        for i in range(len(self.ratings)):\n",
    "            sum = sum + self.ratings[i]*self.word_vectors[i]\n",
    "        self.page_vector = sum\n",
    "        "
   ]
  },
  {
   "cell_type": "code",
   "execution_count": 20,
   "metadata": {},
   "outputs": [
    {
     "name": "stdout",
     "output_type": "stream",
     "text": [
      "Đại Kỷ Nguyên,Đại Kỷ Nguyên,Thời sự kịp thời\n",
      "\n"
     ]
    }
   ],
   "source": [
    "set_page = []\n",
    "for i in range(len(page_id)):\n",
    "    name = source_name[i]\n",
    "    t_corpus = []\n",
    "    t_ratings = []\n",
    "    t_word_vectors = []\n",
    "    if(i<len(page_id)-1):\n",
    "        for j in range(page_id[i],page_id[i+1]):\n",
    "            t_corpus.append(corpus[j])\n",
    "            t_ratings.append(rating[j])\n",
    "            t_word_vectors.append(doc_topic[j])\n",
    "    else:\n",
    "        for j in range(page_id[i],len(corpus)):\n",
    "            t_corpus.append(corpus[j])\n",
    "            t_ratings.append(rating[j])\n",
    "            t_word_vectors.append(doc_topic[j])\n",
    "    page = Fanpage(name,t_corpus,t_ratings,t_word_vectors)\n",
    "    set_page.append(page)\n"
   ]
  },
  {
   "cell_type": "code",
   "execution_count": 24,
   "metadata": {},
   "outputs": [],
   "source": [
    "for page in set_page:\n",
    "    page.calculate()\n",
    "    "
   ]
  },
  {
   "cell_type": "code",
   "execution_count": 91,
   "metadata": {},
   "outputs": [
    {
     "data": {
      "image/png": "[encoded data removed]",
      "text/plain": [
       "<Figure size 432x288 with 4 Axes>"
      ]
     },
     "metadata": {
      "needs_background": "light"
     },
     "output_type": "display_data"
    }
   ],
   "source": [
    "import pandas as pd\n",
    "import matplotlib.pyplot as plt \n",
    "\n",
    "from matplotlib.font_manager import FontProperties\n",
    "\n",
    "fig, axs = plt.subplots(2,2)\n",
    "for i in range(4):\n",
    "    axs[int(i/2),i%2].plot(set_page[i+20].page_vector)\n",
    "    axs[int(i/2),i%2].set_ylabel(set_page[i+20].name,verticalalignment='bottom')\n",
    "\n",
    "\n",
    "plt.savefig('fig.png')\n",
    "plt.show()\n"
   ]
  },
  {
   "cell_type": "code",
   "execution_count": 47,
   "metadata": {},
   "outputs": [],
   "source": [
    "from sklearn.cluster import KMeans\n",
    "# kmeans = KMeans(n_clusters=3, random_state=0).fit(X)"
   ]
  },
  {
   "cell_type": "code",
   "execution_count": 48,
   "metadata": {},
   "outputs": [],
   "source": [
    "vector_pages = []\n",
    "for page in set_page:\n",
    "    vector_pages.append(page.page_vector)"
   ]
  },
  {
   "cell_type": "code",
   "execution_count": 95,
   "metadata": {},
   "outputs": [],
   "source": [
    "kmeans = KMeans(n_clusters=10, random_state=0).fit(vector_pages)"
   ]
  },
  {
   "cell_type": "code",
   "execution_count": 96,
   "metadata": {},
   "outputs": [],
   "source": [
    "pred_label = kmeans.predict(vector_pages)\n"
   ]
  },
  {
   "cell_type": "code",
   "execution_count": 97,
   "metadata": {},
   "outputs": [
    {
     "name": "stdout",
     "output_type": "stream",
     "text": [
      "[4 4 4 4 4 4 4 4 4 7 4 4 4 6 6 1 1 4 1 4 4 4 2 0 0 0 1 2 3 3 4 4 0 4 6 1 1\n",
      " 8 2 2 2 4 4 8 7 3 3 4 1 4 4 1 1 1 1 0 0 1 1 1 4 4 3 4 1 3 8 8 1 1 5 5 4 4\n",
      " 6 4 6 2 2 9 9 8 4 4 9 0 0 5 5 2 1]\n"
     ]
    }
   ],
   "source": [
    "print(pred_label)"
   ]
  },
  {
   "cell_type": "code",
   "execution_count": 100,
   "metadata": {},
   "outputs": [
    {
     "data": {
      "image/png": "[encoded data removed]",
      "text/plain": [
       "<Figure size 432x288 with 4 Axes>"
      ]
     },
     "metadata": {
      "needs_background": "light"
     },
     "output_type": "display_data"
    }
   ],
   "source": [
    "num = 0\n",
    "set_t = []\n",
    "for i in range(len(pred_label)):\n",
    "    if(pred_label[i]==num):\n",
    "#         print(set_page[i].name)\n",
    "        set_t.append(set_page[i])\n",
    "\n",
    "fig, axs = plt.subplots(2,2)\n",
    "for i in range(4):\n",
    "    axs[int(i/2),i%2].plot(set_t[i].page_vector)\n",
    "    axs[int(i/2),i%2].set_ylabel(set_t[i].name,verticalalignment='bottom')\n",
    "plt.show()"
   ]
  },
  {
   "cell_type": "code",
   "execution_count": 76,
   "metadata": {},
   "outputs": [
    {
     "name": "stdout",
     "output_type": "stream",
     "text": [
      "Topic 0: việt_nam doanh_nghiệp công_ty công_nghệ giá sự_kiện đồng phát_triển game đầu_tư\n",
      "Topic 1: trung_quốc việt_nam quốc_tế kinh_tế tàu quốc_gia biển hai mỹ đảng\n",
      "Topic 2: mcvmedia lovetv mcv video hấp_dẫn chương_trình fanpage tình_yêu lỡ mcvtv\n",
      "Topic 3: mỹ tổng_thống pháp trump hai hoa_kỳ nga trung_quốc dân_chủ điều_tra\n",
      "Topic 4: thvl phim kênh đón phát_sóng vtv youtube giải_trí hàng todaytv\n",
      "Topic 5: đi tiền mấy tao đấy beatvn lắm yêu gái chồng\n",
      "Topic 6: phim diễn_viên hát khán_giả nghệ_sĩ nhạc fan nữ ca_sĩ mv\n",
      "Topic 7: bệnh bé bệnh_viện bác_sĩ thuốc ung_thư sức_khỏe da mắc trẻ\n",
      "Topic 8: không_khí môi_trường ô_nhiễm hà_nội dân thành_phố cháy rừng bảo_vệ mưa\n",
      "Topic 9: đi mẹ vợ yêu sống gia_đình hai đừng chẳng chồng\n",
      "Topic 10: món quán ngon đi nha bánh lắm gà esports thử\n",
      "Topic 11: đẹp tao barcode thời_trang lofficielvietnam thuốc depmagazine barcodemagazine tapchidep depentertainment\n",
      "Topic 12: trường học dreamstv htv chương_trình học_sinh trẻ hàng youtube lớp\n",
      "Topic 13: xe đường đi công_an vụ giao_thông hà_nội xảy thông_tin chạy\n",
      "Topic 14: việt_nam trận malaysia đội trận_đấu cầu_thủ hlv bóng đội_tuyển sân\n",
      "Topic 15: truyền_hình viechannelhtv chương_trình vienetwork kênh tập ứng_dụng thi youtube viegiảitrí\n",
      "Topic 16: tập phim_truyện thế_giới khám_phá việt_nam tập_h youtube metubnetwork vtv đi\n",
      "Topic 17: tp tỉnh dự_án vụ công_an thông_tin công_ty đồng đầu_tư hcm\n",
      "Topic 18: hàng đi dân trắng vàng bay máy_bay vnexpress biển mùa\n",
      "Topic 19: biểu_tình đi hồng_kông dám xe phim cướp tặng tốt_đẹp cảnh_sát\n"
     ]
    }
   ],
   "source": [
    "n_top_words = 10\n",
    "for i, topic_dist in enumerate(topic_word):\n",
    "    topic_words = np.array(vocab)[np.argsort(topic_dist)][:-(n_top_words+1):-1]\n",
    "    print('Topic {}: {}'.format(i, ' '.join(topic_words)))\n"
   ]
  },
  {
   "cell_type": "code",
   "execution_count": null,
   "metadata": {},
   "outputs": [],
   "source": []
  }
 ],
 "metadata": {
  "kernelspec": {
   "display_name": "Python 3",
   "language": "python",
   "name": "python3"
  },
  "language_info": {
   "codemirror_mode": {
    "name": "ipython",
    "version": 3
   },
   "file_extension": ".py",
   "mimetype": "text/x-python",
   "name": "python",
   "nbconvert_exporter": "python",
   "pygments_lexer": "ipython3",
   "version": "3.5.2"
  }
 },
 "nbformat": 4,
 "nbformat_minor": 2
}
