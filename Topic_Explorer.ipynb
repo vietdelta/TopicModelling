{
 "cells": [
  {
   "cell_type": "code",
   "execution_count": 1,
   "metadata": {},
   "outputs": [],
   "source": [
    "import os\n",
    "from sklearn.feature_extraction.text import CountVectorizer\n",
    "import lda\n",
    "import numpy as np\n",
    "import pickle\n",
    "import seaborn as sns\n",
    "\n",
    "from matplotlib import pyplot as plt"
   ]
  },
  {
   "cell_type": "code",
   "execution_count": 2,
   "metadata": {},
   "outputs": [],
   "source": [
    "root = \"/home/vietphan/Downloads/fbcrawl/Data-Media-Oct/model/\""
   ]
  },
  {
   "cell_type": "code",
   "execution_count": 3,
   "metadata": {},
   "outputs": [],
   "source": [
    "filename = root + \"done_processing.txt\"\n",
    "rating_file = root + \"rating.txt\"\n",
    "source = root + \"source.txt\"\n",
    "\n",
    "source_name = []\n",
    "corpus = []\n",
    "page_id = []\n",
    "doc_count = 0\n",
    "rating = []\n",
    "blank = []\n",
    "\n",
    "with open(filename, 'r') as f:\n",
    "    line = f.readline()\n",
    "    while(line):\n",
    "        if(line[0]!=\"*\"):\n",
    "            corpus.append(line)\n",
    "        elif(lens(line)==0):\n",
    "            print(\"wtf?\")\n",
    "            # doc_count = doc_count +1\n",
    "        line = f.readline()\n",
    "with open(rating_file, 'r') as f2:\n",
    "    line = f2.readline()\n",
    "    while(line):\n",
    "        if(line[0]==\"*\"):\n",
    "            page_id.append(doc_count)#-len(page_id))\n",
    "        else:\n",
    "            rating.append(np.int64(line))\n",
    "            doc_count = doc_count +1\n",
    "        line = f2.readline()\n",
    "with open(source, 'r') as f3:\n",
    "    line = f3.readline()\n",
    "    while(line):\n",
    "        if(line[0]==\"*\"):\n",
    "#             page_id.append(doc_count-len(page_id))\n",
    "            a = 6\n",
    "        else:\n",
    "            source_name.append(line)\n",
    "            doc_count = doc_count +1\n",
    "        line = f3.readline()\n",
    "#         print(line)\n",
    "\n",
    "vectorizer = CountVectorizer()\n",
    "X = vectorizer.fit_transform(corpus)\n",
    "vocab = vectorizer.get_feature_names()\n",
    "# print(vectorizer.get_feature_names())\n",
    "# print(X.toarray())\n",
    "\n",
    "model_filename = root+'finalized_model.sav'\n",
    "model = pickle.load(open(model_filename, 'rb'))\n",
    "\n",
    "page_vector = []\n",
    "topic_word = model.topic_word_\n",
    "doc_topic = model.doc_topic_"
   ]
  },
  {
   "cell_type": "code",
   "execution_count": 4,
   "metadata": {},
   "outputs": [],
   "source": [
    "# topic_file = root + \"topic.txt\"\n",
    "# with open(topic_file, 'w') as f:\n",
    "#     n_top_words = 10\n",
    "#     for i, topic_dist in enumerate(topic_word):\n",
    "#         topic_words = np.array(vocab)[np.argsort(topic_dist)][:-(n_top_words+1):-1]\n",
    "#         f.write('Topic {}: {}'.format(i, ' '.join(topic_words)))\n",
    "#         f.write(\"\\n\")"
   ]
  },
  {
   "cell_type": "code",
   "execution_count": 5,
   "metadata": {},
   "outputs": [],
   "source": [
    "sum = 0\n",
    "for j in range(len(corpus)):\n",
    "    sum = sum + rating[j]\n",
    "for j in range(len(corpus)):\n",
    "    rating[j] = rating[j]/sum\n",
    "rating_topic = np.zeros((20,))\n",
    "for i,vector in enumerate(doc_topic):\n",
    "    rating_topic = rating_topic + vector*rating[i]\n",
    "    "
   ]
  },
  {
   "cell_type": "code",
   "execution_count": 6,
   "metadata": {},
   "outputs": [
    {
     "name": "stdout",
     "output_type": "stream",
     "text": [
      "[0.08050593 0.03127196 0.04256692 0.04898087 0.02799734 0.03203135\n",
      " 0.02845676 0.02982411 0.08157834 0.02520465 0.09123937 0.09855209\n",
      " 0.03048145 0.05560702 0.05422477 0.03631895 0.09041135 0.03581807\n",
      " 0.03282676 0.04610195]\n"
     ]
    }
   ],
   "source": [
    "print(rating_topic)"
   ]
  },
  {
   "cell_type": "code",
   "execution_count": 7,
   "metadata": {},
   "outputs": [
    {
     "data": {
      "text/plain": [
       "11"
      ]
     },
     "execution_count": 7,
     "metadata": {},
     "output_type": "execute_result"
    }
   ],
   "source": [
    "np.argmax(rating_topic)"
   ]
  },
  {
   "cell_type": "code",
   "execution_count": 8,
   "metadata": {},
   "outputs": [],
   "source": [
    "topic_file = root + \"topic.txt\"\n",
    "with open(topic_file, 'w') as f:\n",
    "    n_top_words = 10\n",
    "    for i, topic_dist in enumerate(topic_word):\n",
    "        topic_words = np.array(vocab)[np.argsort(topic_dist)][:-(n_top_words+1):-1]\n",
    "        f.write('Topic {}: {}'.format(i, ' '.join(topic_words)))\n",
    "        f.write(\"\\n\")\n",
    "    f.write(\"Hottest topic is: Topic \"+ str(np.argmax(rating_topic)))\n",
    "    "
   ]
  }
 ],
 "metadata": {
  "kernelspec": {
   "display_name": "Python 3",
   "language": "python",
   "name": "python3"
  },
  "language_info": {
   "codemirror_mode": {
    "name": "ipython",
    "version": 3
   },
   "file_extension": ".py",
   "mimetype": "text/x-python",
   "name": "python",
   "nbconvert_exporter": "python",
   "pygments_lexer": "ipython3",
   "version": "3.5.2"
  }
 },
 "nbformat": 4,
 "nbformat_minor": 2
}
