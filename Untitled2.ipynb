{
 "cells": [
  {
   "cell_type": "code",
   "execution_count": 1,
   "metadata": {},
   "outputs": [],
   "source": [
    "import cv2\n",
    "import numpy as np\n",
    "import math\n",
    "PATH = '/home/vietphan/Documents/data/IMG/'\n",
    "PATH2 = '/home/vietphan/Documents/data2/'"
   ]
  },
  {
   "cell_type": "code",
   "execution_count": 2,
   "metadata": {},
   "outputs": [],
   "source": [
    "PATH_new = PATH2 + \"650.png\"\n",
    "img = cv2.imread(PATH_new)\n",
    "# cv2.imshow(\"test\", img)\n",
    "\n",
    "# cv2.waitKey(0)\n",
    "# cv2.destroyAllWindows()\n"
   ]
  },
  {
   "cell_type": "code",
   "execution_count": 3,
   "metadata": {},
   "outputs": [],
   "source": [
    "imgray = cv2.cvtColor(img, cv2.COLOR_BGR2GRAY)\n",
    "\n",
    "contours, hierarchy = cv2.findContours(imgray, cv2.RETR_TREE, cv2.CHAIN_APPROX_NONE)"
   ]
  },
  {
   "cell_type": "code",
   "execution_count": 4,
   "metadata": {
    "scrolled": true
   },
   "outputs": [
    {
     "data": {
      "text/plain": [
       "array([[[0, 0, 0],\n",
       "        [0, 0, 0],\n",
       "        [0, 0, 0],\n",
       "        ...,\n",
       "        [0, 0, 0],\n",
       "        [0, 0, 0],\n",
       "        [0, 0, 0]],\n",
       "\n",
       "       [[0, 0, 0],\n",
       "        [0, 0, 0],\n",
       "        [0, 0, 0],\n",
       "        ...,\n",
       "        [0, 0, 0],\n",
       "        [0, 0, 0],\n",
       "        [0, 0, 0]],\n",
       "\n",
       "       [[0, 0, 0],\n",
       "        [0, 0, 0],\n",
       "        [0, 0, 0],\n",
       "        ...,\n",
       "        [0, 0, 0],\n",
       "        [0, 0, 0],\n",
       "        [0, 0, 0]],\n",
       "\n",
       "       ...,\n",
       "\n",
       "       [[0, 0, 0],\n",
       "        [0, 0, 0],\n",
       "        [0, 0, 0],\n",
       "        ...,\n",
       "        [0, 0, 0],\n",
       "        [0, 0, 0],\n",
       "        [0, 0, 0]],\n",
       "\n",
       "       [[0, 0, 0],\n",
       "        [0, 0, 0],\n",
       "        [0, 0, 0],\n",
       "        ...,\n",
       "        [0, 0, 0],\n",
       "        [0, 0, 0],\n",
       "        [0, 0, 0]],\n",
       "\n",
       "       [[0, 0, 0],\n",
       "        [0, 0, 0],\n",
       "        [0, 0, 0],\n",
       "        ...,\n",
       "        [0, 0, 0],\n",
       "        [0, 0, 0],\n",
       "        [0, 0, 0]]], dtype=uint8)"
      ]
     },
     "execution_count": 4,
     "metadata": {},
     "output_type": "execute_result"
    }
   ],
   "source": [
    "cv2.drawContours(img, contours, -1, (0,255,0), 1)\n",
    "# cv2.imshow(\"test\", img)\n",
    "\n",
    "# cv2.waitKey(0)\n",
    "# cv2.destroyAllWindows()"
   ]
  },
  {
   "cell_type": "code",
   "execution_count": 5,
   "metadata": {},
   "outputs": [],
   "source": [
    "height, width = imgray.shape\n",
    "t = 10\n",
    "btm_points = []\n",
    "flag = 0\n",
    "check = 0\n",
    "while(t < 50 and check <=3):\n",
    "    dou = []\n",
    "    previous = []\n",
    "    for cnt in contours:\n",
    "        for ele in cnt:\n",
    "            if(ele[0,1] == height-t):\n",
    "                if(len(previous)==0):\n",
    "                        previous = ele[0]\n",
    "                else:\n",
    "                        point_t = ele[0]\n",
    "                        if(point_t[1]==previous[1]):\n",
    "                            if(math.sqrt((point_t[0]-previous[0])**2+(point_t[1]-previous[1])**2)>=16):\n",
    "                                \n",
    "                                if(point_t[1]<previous[1]):\n",
    "                                    btm_points.append(point_t)\n",
    "#                                     cv2.circle(img,point, 3, (0,255,255), -1)\n",
    "                                else:\n",
    "                                    btm_points.append(previous)\n",
    "#                                     cv2.circle(img,point_t, 3, (0,255,255), -1)\n",
    "                                check = check + 1\n",
    "                        previous = point_t\n",
    "                \n",
    "#                     dou.append(ele[0])\n",
    "#                     if(len(dou)==2):\n",
    "#                         print(dou[0][0] - dou[1][0])\n",
    "# #                         print(dou)\n",
    "#                         if(dou[0][0] > dou[1][0] and flag == 0):\n",
    "#                             btm_points = dou[1]\n",
    "#                         if(dou[0][0] > dou[1][0] and flag == 1):\n",
    "#                             btm_points = dou[0]\n",
    "#                         if(dou[0][0] < dou[1][0] and flag == 0):\n",
    "#                             btm_points = dou[0]\n",
    "#                         if(dou[0][0] < dou[1][0] and flag == 1):\n",
    "#                             btm_points = dou[1]\n",
    "                        \n",
    "                        \n",
    "    t = t+5"
   ]
  },
  {
   "cell_type": "code",
   "execution_count": 6,
   "metadata": {},
   "outputs": [
    {
     "name": "stdout",
     "output_type": "stream",
     "text": [
      "[array([110, 310], dtype=int32), array([111, 305], dtype=int32), array([112, 300], dtype=int32), array([112, 295], dtype=int32)]\n"
     ]
    }
   ],
   "source": [
    "print(btm_points)"
   ]
  },
  {
   "cell_type": "code",
   "execution_count": 7,
   "metadata": {},
   "outputs": [
    {
     "name": "stdout",
     "output_type": "stream",
     "text": [
      "(110, 310)\n"
     ]
    },
    {
     "data": {
      "text/plain": [
       "array([[[0, 0, 0],\n",
       "        [0, 0, 0],\n",
       "        [0, 0, 0],\n",
       "        ...,\n",
       "        [0, 0, 0],\n",
       "        [0, 0, 0],\n",
       "        [0, 0, 0]],\n",
       "\n",
       "       [[0, 0, 0],\n",
       "        [0, 0, 0],\n",
       "        [0, 0, 0],\n",
       "        ...,\n",
       "        [0, 0, 0],\n",
       "        [0, 0, 0],\n",
       "        [0, 0, 0]],\n",
       "\n",
       "       [[0, 0, 0],\n",
       "        [0, 0, 0],\n",
       "        [0, 0, 0],\n",
       "        ...,\n",
       "        [0, 0, 0],\n",
       "        [0, 0, 0],\n",
       "        [0, 0, 0]],\n",
       "\n",
       "       ...,\n",
       "\n",
       "       [[0, 0, 0],\n",
       "        [0, 0, 0],\n",
       "        [0, 0, 0],\n",
       "        ...,\n",
       "        [0, 0, 0],\n",
       "        [0, 0, 0],\n",
       "        [0, 0, 0]],\n",
       "\n",
       "       [[0, 0, 0],\n",
       "        [0, 0, 0],\n",
       "        [0, 0, 0],\n",
       "        ...,\n",
       "        [0, 0, 0],\n",
       "        [0, 0, 0],\n",
       "        [0, 0, 0]],\n",
       "\n",
       "       [[0, 0, 0],\n",
       "        [0, 0, 0],\n",
       "        [0, 0, 0],\n",
       "        ...,\n",
       "        [0, 0, 0],\n",
       "        [0, 0, 0],\n",
       "        [0, 0, 0]]], dtype=uint8)"
      ]
     },
     "execution_count": 7,
     "metadata": {},
     "output_type": "execute_result"
    }
   ],
   "source": [
    "point = btm_points[0][0],btm_points[0][1]\n",
    "M = point\n",
    "print(M)\n",
    "cv2.circle(img,point, 3, (0,255,255), -1)"
   ]
  },
  {
   "cell_type": "code",
   "execution_count": 8,
   "metadata": {},
   "outputs": [],
   "source": [
    "# cv2.imshow(\"test\", img)\n",
    "# cv2.waitKey(0)\n",
    "# cv2.destroyAllWindows()"
   ]
  },
  {
   "cell_type": "code",
   "execution_count": 9,
   "metadata": {},
   "outputs": [
    {
     "name": "stdout",
     "output_type": "stream",
     "text": [
      "[105 282]\n",
      "[100 278]\n",
      "[ 95 273]\n",
      "[ 90 268]\n",
      "[ 85 255]\n",
      "[ 80 240]\n",
      "[110 310]\n",
      "[111 305]\n",
      "[112 300]\n",
      "[112 295]\n"
     ]
    }
   ],
   "source": [
    "import math\n",
    "check = 0\n",
    "t = 5\n",
    "sl_points = []\n",
    "# print(point)\n",
    "point = btm_points[0][0],btm_points[0][1]\n",
    "\n",
    "while(t < 50 and check == 0):\n",
    "    dou = []\n",
    "    previous = []\n",
    "    for cnt in contours:\n",
    "        for ele in cnt:\n",
    "            if(ele[0,0] == point[0]-t):\n",
    "#                     dou.append(ele[0])\n",
    "#                     print(ele)\n",
    "#                     point_t = ele[0][0],ele[0][1]\n",
    "                    if(len(previous)==0):\n",
    "                        previous = ele[0]\n",
    "                    else:\n",
    "                        point_t = ele[0]\n",
    "                        if(point_t[0]==previous[0]):\n",
    "                            if(math.sqrt((point_t[0]-previous[0])**2+(point_t[1]-previous[1])**2)>=16):\n",
    "                                \n",
    "                                if(point_t[1]>previous[1]):\n",
    "                                    sl_points.append(point_t)\n",
    "#                                     cv2.circle(img,point, 3, (0,255,255), -1)\n",
    "                                else:\n",
    "                                    sl_points.append(previous)\n",
    "#                                     cv2.circle(img,point_t, 3, (0,255,255), -1)\n",
    "                                \n",
    "                        previous = point_t\n",
    "\n",
    "#                         print(dou)\n",
    "#                         print(dou[0][1] - dou[1][1])\n",
    "#                         print(dou)\n",
    "#                         if(dou[0][1] > dou[1][1] and flag == 0):\n",
    "#                             btm_points = dou[1]\n",
    "#                         if(dou[0][1] > dou[1][1] and flag == 1):\n",
    "#                             btm_points = dou[0]\n",
    "#                         if(dou[0][1] < dou[1][1] and flag == 0):\n",
    "#                             btm_points = dou[0]\n",
    "#                         if(dou[0][1] < dou[1][1] and flag == 1):\n",
    "#                             btm_points = dou[1]\n",
    "#                         point = btm_points[0],btm_points[1]    \n",
    "#                         cv2.circle(img,point, 3, (0,255,255), -1)\n",
    "                        \n",
    "    t=t+5\n",
    "for point in sl_points:\n",
    "    t_point = point[0], point[1]\n",
    "    cv2.circle(img,t_point, 3, (0,255,255), -1)\n",
    "    print(point)\n",
    "for point in btm_points:\n",
    "    t_point = point[0], point[1]\n",
    "    cv2.circle(img,t_point, 3, (0,255,255), -1)\n",
    "    print(point)"
   ]
  },
  {
   "cell_type": "code",
   "execution_count": 10,
   "metadata": {},
   "outputs": [
    {
     "name": "stdout",
     "output_type": "stream",
     "text": [
      "114.13793103448276 289.3103448275862\n"
     ]
    }
   ],
   "source": [
    "A = []\n",
    "B = []\n",
    "C = []\n",
    "D = []\n",
    "if(len(sl_points)>=2):\n",
    "    A = sl_points[0]\n",
    "    B = sl_points[1]\n",
    "if(len(btm_points)>=2):\n",
    "    C = btm_points[0]\n",
    "    D = btm_points[1]\n",
    "K = (D[1]-C[1])/(D[0]-C[0])\n",
    "L = (B[1]-A[1])/(B[0]-A[0])\n",
    "Q = A[1] - C[1] +C[0]*K - A[0]*L\n",
    "P = K - L\n",
    "x = Q/P\n",
    "y = A[1]+L*(x-A[0])\n",
    "print(x,y)"
   ]
  },
  {
   "cell_type": "code",
   "execution_count": 11,
   "metadata": {},
   "outputs": [],
   "source": [
    "draw = int(x), int(y)"
   ]
  },
  {
   "cell_type": "code",
   "execution_count": 12,
   "metadata": {},
   "outputs": [
    {
     "data": {
      "text/plain": [
       "array([[[0, 0, 0],\n",
       "        [0, 0, 0],\n",
       "        [0, 0, 0],\n",
       "        ...,\n",
       "        [0, 0, 0],\n",
       "        [0, 0, 0],\n",
       "        [0, 0, 0]],\n",
       "\n",
       "       [[0, 0, 0],\n",
       "        [0, 0, 0],\n",
       "        [0, 0, 0],\n",
       "        ...,\n",
       "        [0, 0, 0],\n",
       "        [0, 0, 0],\n",
       "        [0, 0, 0]],\n",
       "\n",
       "       [[0, 0, 0],\n",
       "        [0, 0, 0],\n",
       "        [0, 0, 0],\n",
       "        ...,\n",
       "        [0, 0, 0],\n",
       "        [0, 0, 0],\n",
       "        [0, 0, 0]],\n",
       "\n",
       "       ...,\n",
       "\n",
       "       [[0, 0, 0],\n",
       "        [0, 0, 0],\n",
       "        [0, 0, 0],\n",
       "        ...,\n",
       "        [0, 0, 0],\n",
       "        [0, 0, 0],\n",
       "        [0, 0, 0]],\n",
       "\n",
       "       [[0, 0, 0],\n",
       "        [0, 0, 0],\n",
       "        [0, 0, 0],\n",
       "        ...,\n",
       "        [0, 0, 0],\n",
       "        [0, 0, 0],\n",
       "        [0, 0, 0]],\n",
       "\n",
       "       [[0, 0, 0],\n",
       "        [0, 0, 0],\n",
       "        [0, 0, 0],\n",
       "        ...,\n",
       "        [0, 0, 0],\n",
       "        [0, 0, 0],\n",
       "        [0, 0, 0]]], dtype=uint8)"
      ]
     },
     "execution_count": 12,
     "metadata": {},
     "output_type": "execute_result"
    }
   ],
   "source": [
    "cv2.circle(img,draw, 3, (255,0,0), -1)"
   ]
  },
  {
   "cell_type": "code",
   "execution_count": 13,
   "metadata": {},
   "outputs": [],
   "source": [
    "# cv2.circle(img,draw, 40, (0,0,255), 3)\n",
    "# cv2.imshow(\"test\", img)\n",
    "# cv2.waitKey(0)\n",
    "# cv2.destroyAllWindows()"
   ]
  },
  {
   "cell_type": "code",
   "execution_count": 14,
   "metadata": {},
   "outputs": [
    {
     "data": {
      "text/plain": [
       "array([[[0, 0, 0],\n",
       "        [0, 0, 0],\n",
       "        [0, 0, 0],\n",
       "        ...,\n",
       "        [0, 0, 0],\n",
       "        [0, 0, 0],\n",
       "        [0, 0, 0]],\n",
       "\n",
       "       [[0, 0, 0],\n",
       "        [0, 0, 0],\n",
       "        [0, 0, 0],\n",
       "        ...,\n",
       "        [0, 0, 0],\n",
       "        [0, 0, 0],\n",
       "        [0, 0, 0]],\n",
       "\n",
       "       [[0, 0, 0],\n",
       "        [0, 0, 0],\n",
       "        [0, 0, 0],\n",
       "        ...,\n",
       "        [0, 0, 0],\n",
       "        [0, 0, 0],\n",
       "        [0, 0, 0]],\n",
       "\n",
       "       ...,\n",
       "\n",
       "       [[0, 0, 0],\n",
       "        [0, 0, 0],\n",
       "        [0, 0, 0],\n",
       "        ...,\n",
       "        [0, 0, 0],\n",
       "        [0, 0, 0],\n",
       "        [0, 0, 0]],\n",
       "\n",
       "       [[0, 0, 0],\n",
       "        [0, 0, 0],\n",
       "        [0, 0, 0],\n",
       "        ...,\n",
       "        [0, 0, 0],\n",
       "        [0, 0, 0],\n",
       "        [0, 0, 0]],\n",
       "\n",
       "       [[0, 0, 0],\n",
       "        [0, 0, 0],\n",
       "        [0, 0, 0],\n",
       "        ...,\n",
       "        [0, 0, 0],\n",
       "        [0, 0, 0],\n",
       "        [0, 0, 0]]], dtype=uint8)"
      ]
     },
     "execution_count": 14,
     "metadata": {},
     "output_type": "execute_result"
    }
   ],
   "source": [
    "# img=np.zeros((height, width))\n",
    "\n",
    "sl_vector = (sl_points[0][0]-sl_points[1][0],sl_points[0][1]-sl_points[1][1])\n",
    "btm_vector = (btm_points[0][0]-btm_points[1][0],btm_points[0][1]-btm_points[1][1])\n",
    "\n",
    "cos1 = (sl_vector[1])/math.sqrt((sl_vector[0]**2)+(sl_vector[1]**2))\n",
    "cos2 = (btm_vector[1])/math.sqrt((btm_vector[0]**2)+(btm_vector[1]**2))\n",
    "\n",
    "alpha = math.acos(cos1)\n",
    "beta = math.acos(cos2)\n",
    "\n",
    "# gamma = alpha + beta\n",
    "alpha_degree = alpha * 180 / 3.141592\n",
    "beta_degree = 90 - beta * 180 / 3.141592\n",
    "\n",
    "radius=45\n",
    "axes = (radius,radius)\n",
    "angle=0;\n",
    "startAngle=-beta_degree;\n",
    "endAngle=alpha_degree;\n",
    "center=draw\n",
    "color=255\n",
    "\n",
    "cv2.ellipse(img, center, axes, angle, startAngle, endAngle, (0,0,255),-1)\n"
   ]
  },
  {
   "cell_type": "code",
   "execution_count": null,
   "metadata": {},
   "outputs": [],
   "source": [
    "cv2.imshow(\"test\", img)\n",
    "cv2.waitKey(0)\n",
    "cv2.destroyAllWindows()"
   ]
  },
  {
   "cell_type": "code",
   "execution_count": null,
   "metadata": {},
   "outputs": [],
   "source": []
  }
 ],
 "metadata": {
  "kernelspec": {
   "display_name": "Python 3",
   "language": "python",
   "name": "python3"
  },
  "language_info": {
   "codemirror_mode": {
    "name": "ipython",
    "version": 3
   },
   "file_extension": ".py",
   "mimetype": "text/x-python",
   "name": "python",
   "nbconvert_exporter": "python",
   "pygments_lexer": "ipython3",
   "version": "3.5.2"
  }
 },
 "nbformat": 4,
 "nbformat_minor": 2
}
